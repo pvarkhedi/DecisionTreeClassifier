{
 "cells": [
  {
   "cell_type": "markdown",
   "metadata": {},
   "source": [
    "# Exploration of my own Decision Tree Classifier and Sklearn Tree Module\n",
    "\n",
    "The data set used in this project was created by webscraping Angie's List for potential new cold call leads for our company's product. The features include which category the business falls under (basements-and-foundations, kitchen-and-bath-remodeling, home-security-systems, landscaping, roofing, and home-exteriors), what decade the business was founded in, the number of reviews it has on Angie's List, and its average rating on the site.\n",
    "\n",
    "The labels associated with each row (0, 1) indicate whether or not the business picked up the phone when our sales development reps called them. \n",
    "\n",
    "The goal of this project is to identify combinations of the features that most likely pick up the phone so we can prioritize that group when calling."
   ]
  },
  {
   "cell_type": "markdown",
   "metadata": {},
   "source": [
    "##### Table of Contents\n",
    "    1. Clean and Explore Data Set\n",
    "    2. Build, Train, and Test My Own Decision Tree Classifier\n",
    "    3. Build, Train, and Test Decision Tree Classifier using Sklearn\n",
    "    4. Comparing my Decision Tree Classifier to Sklean's"
   ]
  },
  {
   "cell_type": "code",
   "execution_count": 576,
   "metadata": {},
   "outputs": [],
   "source": [
    "#general imports\n",
    "import pandas as pd\n",
    "import numpy as np\n",
    "from sklearn.model_selection import train_test_split\n",
    "import seaborn as sns"
   ]
  },
  {
   "cell_type": "markdown",
   "metadata": {},
   "source": [
    "## Clean and Explore Data Set"
   ]
  },
  {
   "cell_type": "code",
   "execution_count": 577,
   "metadata": {},
   "outputs": [
    {
     "data": {
      "text/html": [
       "<div>\n",
       "<style scoped>\n",
       "    .dataframe tbody tr th:only-of-type {\n",
       "        vertical-align: middle;\n",
       "    }\n",
       "\n",
       "    .dataframe tbody tr th {\n",
       "        vertical-align: top;\n",
       "    }\n",
       "\n",
       "    .dataframe thead th {\n",
       "        text-align: right;\n",
       "    }\n",
       "</style>\n",
       "<table border=\"1\" class=\"dataframe\">\n",
       "  <thead>\n",
       "    <tr style=\"text-align: right;\">\n",
       "      <th></th>\n",
       "      <th>name</th>\n",
       "      <th>category</th>\n",
       "      <th>founded</th>\n",
       "      <th>rating</th>\n",
       "      <th>numreviews</th>\n",
       "      <th>success</th>\n",
       "    </tr>\n",
       "  </thead>\n",
       "  <tbody>\n",
       "    <tr>\n",
       "      <th>0</th>\n",
       "      <td>A - 1  Plumbing Sewer &amp; Drain Experts</td>\n",
       "      <td>basements-and-foundations</td>\n",
       "      <td>1980</td>\n",
       "      <td>D</td>\n",
       "      <td>0</td>\n",
       "      <td>0</td>\n",
       "    </tr>\n",
       "    <tr>\n",
       "      <th>1</th>\n",
       "      <td>A DUIN-IT Roofing &amp; Construction, Inc.</td>\n",
       "      <td>basements-and-foundations</td>\n",
       "      <td>1970</td>\n",
       "      <td>A</td>\n",
       "      <td>0</td>\n",
       "      <td>0</td>\n",
       "    </tr>\n",
       "    <tr>\n",
       "      <th>2</th>\n",
       "      <td>A J CRISS INDUSTRIES</td>\n",
       "      <td>basements-and-foundations</td>\n",
       "      <td>1960</td>\n",
       "      <td>A</td>\n",
       "      <td>0</td>\n",
       "      <td>1</td>\n",
       "    </tr>\n",
       "    <tr>\n",
       "      <th>3</th>\n",
       "      <td>A1 Premier Contractor Inc.</td>\n",
       "      <td>basements-and-foundations</td>\n",
       "      <td>2010</td>\n",
       "      <td>A</td>\n",
       "      <td>0</td>\n",
       "      <td>1</td>\n",
       "    </tr>\n",
       "    <tr>\n",
       "      <th>4</th>\n",
       "      <td>Abolish, Design &amp; Construction LLC</td>\n",
       "      <td>basements-and-foundations</td>\n",
       "      <td>1990</td>\n",
       "      <td>A</td>\n",
       "      <td>0</td>\n",
       "      <td>0</td>\n",
       "    </tr>\n",
       "  </tbody>\n",
       "</table>\n",
       "</div>"
      ],
      "text/plain": [
       "                                     name                   category  founded  \\\n",
       "0   A - 1  Plumbing Sewer & Drain Experts  basements-and-foundations     1980   \n",
       "1  A DUIN-IT Roofing & Construction, Inc.  basements-and-foundations     1970   \n",
       "2                    A J CRISS INDUSTRIES  basements-and-foundations     1960   \n",
       "3              A1 Premier Contractor Inc.  basements-and-foundations     2010   \n",
       "4      Abolish, Design & Construction LLC  basements-and-foundations     1990   \n",
       "\n",
       "  rating  numreviews  success  \n",
       "0      D           0        0  \n",
       "1      A           0        0  \n",
       "2      A           0        1  \n",
       "3      A           0        1  \n",
       "4      A           0        0  "
      ]
     },
     "execution_count": 577,
     "metadata": {},
     "output_type": "execute_result"
    }
   ],
   "source": [
    "# read in data set and drop rows with no reviews\n",
    "df = pd.read_csv(\"newdata.csv\", header = None)\n",
    "df = df[df[3] != \"Z\"]\n",
    "df = df[df[2] != 0]\n",
    "df.columns = [\"name\", \"category\", \"founded\", \"rating\", \"numreviews\", \"success\"]\n",
    "df.head()"
   ]
  },
  {
   "cell_type": "code",
   "execution_count": 578,
   "metadata": {},
   "outputs": [
    {
     "name": "stdout",
     "output_type": "stream",
     "text": [
      "Size of Dataset:  (327, 6)\n"
     ]
    },
    {
     "data": {
      "text/html": [
       "<div>\n",
       "<style scoped>\n",
       "    .dataframe tbody tr th:only-of-type {\n",
       "        vertical-align: middle;\n",
       "    }\n",
       "\n",
       "    .dataframe tbody tr th {\n",
       "        vertical-align: top;\n",
       "    }\n",
       "\n",
       "    .dataframe thead th {\n",
       "        text-align: right;\n",
       "    }\n",
       "</style>\n",
       "<table border=\"1\" class=\"dataframe\">\n",
       "  <thead>\n",
       "    <tr style=\"text-align: right;\">\n",
       "      <th></th>\n",
       "      <th>name</th>\n",
       "      <th>category</th>\n",
       "      <th>founded</th>\n",
       "      <th>rating</th>\n",
       "      <th>numreviews</th>\n",
       "      <th>success</th>\n",
       "    </tr>\n",
       "  </thead>\n",
       "  <tbody>\n",
       "    <tr>\n",
       "      <th>0</th>\n",
       "      <td>A - 1  Plumbing Sewer &amp; Drain Experts</td>\n",
       "      <td>basements-and-foundations</td>\n",
       "      <td>1980</td>\n",
       "      <td>D</td>\n",
       "      <td>0</td>\n",
       "      <td>0</td>\n",
       "    </tr>\n",
       "    <tr>\n",
       "      <th>1</th>\n",
       "      <td>A DUIN-IT Roofing &amp; Construction, Inc.</td>\n",
       "      <td>basements-and-foundations</td>\n",
       "      <td>1970</td>\n",
       "      <td>A</td>\n",
       "      <td>0</td>\n",
       "      <td>0</td>\n",
       "    </tr>\n",
       "    <tr>\n",
       "      <th>2</th>\n",
       "      <td>A J CRISS INDUSTRIES</td>\n",
       "      <td>basements-and-foundations</td>\n",
       "      <td>1960</td>\n",
       "      <td>A</td>\n",
       "      <td>0</td>\n",
       "      <td>1</td>\n",
       "    </tr>\n",
       "    <tr>\n",
       "      <th>3</th>\n",
       "      <td>A1 Premier Contractor Inc.</td>\n",
       "      <td>basements-and-foundations</td>\n",
       "      <td>2010</td>\n",
       "      <td>A</td>\n",
       "      <td>0</td>\n",
       "      <td>1</td>\n",
       "    </tr>\n",
       "    <tr>\n",
       "      <th>4</th>\n",
       "      <td>Abolish, Design &amp; Construction LLC</td>\n",
       "      <td>basements-and-foundations</td>\n",
       "      <td>1990</td>\n",
       "      <td>A</td>\n",
       "      <td>0</td>\n",
       "      <td>0</td>\n",
       "    </tr>\n",
       "  </tbody>\n",
       "</table>\n",
       "</div>"
      ],
      "text/plain": [
       "                                     name                   category  founded  \\\n",
       "0   A - 1  Plumbing Sewer & Drain Experts  basements-and-foundations     1980   \n",
       "1  A DUIN-IT Roofing & Construction, Inc.  basements-and-foundations     1970   \n",
       "2                    A J CRISS INDUSTRIES  basements-and-foundations     1960   \n",
       "3              A1 Premier Contractor Inc.  basements-and-foundations     2010   \n",
       "4      Abolish, Design & Construction LLC  basements-and-foundations     1990   \n",
       "\n",
       "  rating  numreviews  success  \n",
       "0      D           0        0  \n",
       "1      A           0        0  \n",
       "2      A           0        1  \n",
       "3      A           0        1  \n",
       "4      A           0        0  "
      ]
     },
     "execution_count": 578,
     "metadata": {},
     "output_type": "execute_result"
    }
   ],
   "source": [
    "#group years by decades\n",
    "df[\"founded\"] = [int(np.floor(year / 10) * 10) for year in df[\"founded\"]]\n",
    "df[\"founded\"] = [1950 if year <= 1950 else year for year in df[\"founded\"]]\n",
    "\n",
    "#group number of reviews by 10s\n",
    "df[\"numreviews\"] = [int(num) for num in df[\"numreviews\"]]\n",
    "df[\"numreviews\"] = [int(np.floor(num / 10) * 10) for num in df[\"numreviews\"]]\n",
    "df[\"numreviews\"] = [100 if num >100 else num for num in df[\"numreviews\"]]\n",
    "df[\"numreviews\"] = [50 if num > 50 and num < 100 else num for num in df[\"numreviews\"]]\n",
    "\n",
    "print(\"Size of Dataset: \" , df.shape)\n",
    "df.head()"
   ]
  },
  {
   "cell_type": "markdown",
   "metadata": {},
   "source": [
    "## Build, Train, and Test My Own Decision Tree Classifier"
   ]
  },
  {
   "cell_type": "code",
   "execution_count": 579,
   "metadata": {},
   "outputs": [],
   "source": [
    "'''\n",
    "class: Node\n",
    "'''\n",
    "class Node:\n",
    "    \n",
    "    '''\n",
    "    function: constructor\n",
    "    \n",
    "    inputs:\n",
    "        question: dictionary that contains condition of node\n",
    "        left: pointer to the left node on the tree\n",
    "        right: pointer to the right node on the tree\n",
    "    '''\n",
    "    def __init__(self, question, left, right):\n",
    "        self.question = question\n",
    "        self.left = None\n",
    "        self.right = None"
   ]
  },
  {
   "cell_type": "code",
   "execution_count": 580,
   "metadata": {},
   "outputs": [],
   "source": [
    "'''\n",
    "function: make_dictionaries(df)\n",
    "\n",
    "inputs:\n",
    "    df: total dataset\n",
    "    \n",
    "outputs:\n",
    "    colValueDict: dictionary of unique values in each column\n",
    "    colTypeDict: dictionary of type of each column\n",
    "'''\n",
    "def make_dictionaries(df):\n",
    "    #initialize dictionaries\n",
    "    colValueDict = {}\n",
    "    colTypeDict = {}\n",
    "    \n",
    "    #find uique values in each column\n",
    "    df = df.drop([\"name\"], axis = 1)\n",
    "    for column in df:\n",
    "        colValueDict[column] = df[column].unique()\n",
    "    \n",
    "    #delete label column\n",
    "    del colValueDict[\"success\"]\n",
    "    \n",
    "    #find types of each column\n",
    "    for key, value in colValueDict.items():\n",
    "        if key == \"success\":\n",
    "            continue\n",
    "        if isinstance(value[0], str):\n",
    "            colTypeDict[key] = \"categorical\"\n",
    "        else:\n",
    "            colTypeDict[key] = \"numerical\"\n",
    "            \n",
    "    #return the two dictionaries\n",
    "    return colValueDict, colTypeDict"
   ]
  },
  {
   "cell_type": "code",
   "execution_count": 581,
   "metadata": {},
   "outputs": [],
   "source": [
    "'''\n",
    "function: avg_gini_impurity(df, column_name, value, cat_num)\n",
    "\n",
    "inputs:\n",
    "    df: total dataset\n",
    "    colunm_name: column that the split is happening on\n",
    "    value: value in column that split is happening on\n",
    "    cat_nam: type of the column (categorical or numerical)\n",
    "    \n",
    "outputs:\n",
    "    outputs the average gini inpurity if that split is made\n",
    "'''\n",
    "def avg_gini_impurity(df, column_name, value, cat_num):\n",
    "    #find splits in data frame based on type of column and given value\n",
    "    if cat_num == \"categorical\":\n",
    "        groupOfCategory = df.loc[df[column_name] == value]   \n",
    "        groupNotOOfCategory = df.loc[df[column_name] != value]  \n",
    "    else:\n",
    "        groupOfCategory = df.loc[df[column_name] <= value]\n",
    "        groupNotOfCategory = df.loc[df[column_name] > value]\n",
    "        \n",
    "    #find counts of labels in each group of split\n",
    "    yes_df = groupOfCategory[groupOfCategory[\"success\"] == 1]\n",
    "    yes_count = yes_df.shape[0]\n",
    "    \n",
    "    no_df = groupOfCategory[groupOfCategory[\"success\"] == 1]\n",
    "    no_count = no_df.shape[0]\n",
    "    \n",
    "    total_count = groupOfCategory.shape[0]\n",
    "    \n",
    "    #return if df is empty\n",
    "    if total_count == 0:\n",
    "        return 0\n",
    "    \n",
    "    #calculate individual ginig impurities of each group of split\n",
    "    impurity_yes = 1 - (yes_count / total_count)\n",
    "    impurity_no = 1 - (no_count / total_count)\n",
    "    \n",
    "    #return average gini impurity\n",
    "    return (yes_count / total_count) * impurity_yes + (no_count / total_count) * impurity_no"
   ]
  },
  {
   "cell_type": "code",
   "execution_count": 582,
   "metadata": {},
   "outputs": [],
   "source": [
    "'''\n",
    "function: find_best_split(df, colValueDict, colTypeDict)\n",
    "\n",
    "inputs:\n",
    "    df: total dataset\n",
    "    colValueDict: dictionary of unique values in each column\n",
    "    colTypeDict: dictionary of type of each column\n",
    "    \n",
    "outputs:\n",
    "    bestCol: columns for the best split\n",
    "    bestVal: value in column to split on\n",
    "'''\n",
    "def find_best_split(df, colValueDict, colTypeDict):\n",
    "    #find current impurity\n",
    "    success_df = df[df[\"success\"] == 1]\n",
    "    success_count = success_df.shape[0]\n",
    "    total_count = df.shape[0]\n",
    "    impurity = 1 - (success_count / total_count)\n",
    "    \n",
    "    #loop through each value in each column\n",
    "    gain = 0\n",
    "    bestCol = \"\"\n",
    "    bestVal = 0\n",
    "    for key, values in colValueDict.items():\n",
    "        for val in values:\n",
    "            if key == \"success\":\n",
    "                continue\n",
    "                \n",
    "            #calculate gini imipurity\n",
    "            avg_gini = avg_gini_impurity(df, key, val, colTypeDict[key])\n",
    "            \n",
    "            #replace bestCOl and bestVal if better imformation gain is foud\n",
    "            if impurity - avg_gini >= gain:\n",
    "                bestCol = key\n",
    "                bestVal = val\n",
    "    \n",
    "    #return the bestCol and bestVal to split on\n",
    "    return bestCol, bestVal"
   ]
  },
  {
   "cell_type": "code",
   "execution_count": 583,
   "metadata": {},
   "outputs": [],
   "source": [
    "'''\n",
    "function: build_tree(df, colValueDict, colTypeDict)\n",
    "\n",
    "inputs:\n",
    "    df: total dataset\n",
    "    colValueDict: dictionary of unique values in each column\n",
    "    colTypeDict: dictionary of type of each column\n",
    "    \n",
    "outputs:\n",
    "    node: root of decision tree\n",
    "'''\n",
    "def build_tree(df, colValueDict, colTypeDict):\n",
    "    #return none of all splits have been made or empty dataset\n",
    "    if bool(colValueDict) == False:\n",
    "        return None\n",
    "    if df.shape[0] == 0:\n",
    "        return None\n",
    "    \n",
    "    #find the best split and create node\n",
    "    bestCol, bestVal = find_best_split(df, colValueDict, colTypeDict)\n",
    "    \n",
    "    question = {\"col\": bestCol, \"value\": bestVal}\n",
    "    node = Node(question, None, None)\n",
    "    \n",
    "    #create groups based on best split vaues\n",
    "    if colTypeDict[bestCol] == \"categorical\":\n",
    "        groupOfCategory = df.loc[df[question[\"col\"]] == question[\"value\"]]   \n",
    "        groupNotOfCategory = df.loc[df[question[\"col\"]] == question[\"value\"]]   \n",
    "    else:\n",
    "        groupOfCategory = df.loc[df[question[\"col\"]] <= question[\"value\"]]   \n",
    "        groupNotOfCategory = df.loc[df[question[\"col\"]] > question[\"value\"]] \n",
    "        \n",
    "    #remove value from dictionary\n",
    "    colValueDict[bestCol] = np.delete(colValueDict[bestCol], np.where(colValueDict[bestCol] == bestVal))\n",
    "    \n",
    "    #remove column from dictionary if empty\n",
    "    if colValueDict[bestCol].size == 0:\n",
    "        del colValueDict[bestCol]\n",
    "    \n",
    "    #recurse to the left if condition is satisfied \n",
    "    node.left = build_tree(groupOfCategory, colValueDict, colTypeDict)\n",
    "    \n",
    "    #recurse to the right if condition is not satisfied\n",
    "    node.right = build_tree(groupNotOfCategory, colValueDict, colTypeDict)\n",
    "    \n",
    "    #return node\n",
    "    return node"
   ]
  },
  {
   "cell_type": "code",
   "execution_count": 584,
   "metadata": {},
   "outputs": [],
   "source": [
    "'''\n",
    "function:  get_value(row, root, colTypeDict, nameToIndex)\n",
    "\n",
    "inputs:\n",
    "    row: each row of test set\n",
    "    root: node to split on\n",
    "    colValueDict: dictionary of unique values in each column\n",
    "    nameToIndex: mapping of name to index of columns\n",
    "    \n",
    "outputs:\n",
    "    node: root of decision tree\n",
    "'''\n",
    "def get_value(row, root, colTypeDict, nameToIndex): \n",
    "    #get split condition\n",
    "    question = root.question\n",
    "    \n",
    "    #determine type of column of split condition \n",
    "    if colTypeDict[question[\"col\"]] == \"categorical\":\n",
    "        \n",
    "        #if left then either return none if no left node or recurse down left\n",
    "        if row[nameToIndex[question[\"col\"]]] == question[\"value\"]:\n",
    "            if root.left is not None:\n",
    "                return get_value(row, root.left, colTypeDict, nameToIndex)\n",
    "            else:\n",
    "                return 0\n",
    "\n",
    "        #if right then either return none if no right node or recurse down right\n",
    "        if row[nameToIndex[question[\"col\"]]] != question[\"value\"]:\n",
    "            if root.right is not None:\n",
    "                return get_value(row, root.right, colTypeDict, nameToIndex)\n",
    "            else:\n",
    "                return 1\n",
    "        \n",
    "    elif colTypeDict[question[\"col\"]] == \"numerical\":\n",
    "        #if left then either return none if no left node or recurse down left\n",
    "        if row[nameToIndex[question[\"col\"]]] >= question[\"value\"]:\n",
    "            if root.left is not None:\n",
    "                return get_value(row, root.left, colTypeDict, nameToIndex)\n",
    "            else:\n",
    "                return 0\n",
    "            \n",
    "        #if right then either return none if no right node or recurse down right\n",
    "        if row[nameToIndex[question[\"col\"]]] < question[\"value\"]:\n",
    "            if root.right is not None:\n",
    "                return get_value(row, root.right, colTypeDict, nameToIndex)\n",
    "            else:\n",
    "                return 1\n",
    "    \n",
    "    return"
   ]
  },
  {
   "cell_type": "code",
   "execution_count": 585,
   "metadata": {},
   "outputs": [],
   "source": [
    "'''\n",
    "function:  predict(df, root, colTypeDict, nameToIndex)\n",
    "\n",
    "inputs:\n",
    "    row: each row of test set\n",
    "    root: node to split on\n",
    "    colValueDict: dictionary of unique values in each column\n",
    "    nameToIndex: mapping of name to index of columns\n",
    "    \n",
    "outputs:\n",
    "    prediction: lis of predictions for rows in the test set\n",
    "'''\n",
    "def predict(df, root, colTypeDict, nameToIndex):\n",
    "    predictions = []\n",
    "    for row in df.itertuples():\n",
    "        predictions.append(get_value(row, root, colTypeDict, nameToIndex))\n",
    "    return predictions"
   ]
  },
  {
   "cell_type": "code",
   "execution_count": 586,
   "metadata": {
    "scrolled": true
   },
   "outputs": [
    {
     "name": "stdout",
     "output_type": "stream",
     "text": [
      "\u001b[1mMy Model Accuracy:  0.6212121212121212\n"
     ]
    }
   ],
   "source": [
    "#train and test model\n",
    "\n",
    "#train the model and build tree\n",
    "train, test = train_test_split(df, test_size=0.2, shuffle=True)    \n",
    "colValueDict, colTypeDict = make_dictionaries(df)\n",
    "root = build_tree(df, colValueDict, colTypeDict)\n",
    "\n",
    "#predict on test group with tree calssifier\n",
    "nameToIndex = {\"category\": 2, \"founded\": 3, \"rating\": 4, \"numreviews\": 5}\n",
    "labels = test['success'].to_list()\n",
    "predictions = predict(test, root, colTypeDict, nameToIndex)\n",
    "\n",
    "#calculate error rate of predictions\n",
    "count_right = 0\n",
    "for i in range(len(labels)):\n",
    "    if labels[i] == predictions[i]:\n",
    "        count_right = count_right + 1\n",
    "print('\\033[1m' +  \"My Model Accuracy: \", count_right / len(labels))"
   ]
  },
  {
   "cell_type": "markdown",
   "metadata": {},
   "source": [
    "## Build, Train, and Test Decision Tree Classifier using Sklearn"
   ]
  },
  {
   "cell_type": "code",
   "execution_count": 587,
   "metadata": {},
   "outputs": [],
   "source": [
    "#imports\n",
    "from sklearn.model_selection import train_test_split\n",
    "from sklearn.preprocessing import LabelEncoder\n",
    "from sklearn import tree"
   ]
  },
  {
   "cell_type": "code",
   "execution_count": 588,
   "metadata": {},
   "outputs": [],
   "source": [
    "#No Need to split into train and test because we will use the same split as the one above\n",
    "    #split data set into train and test sets\n",
    "    #train, test = train_test_split(df, test_size=0.2, shuffle=True)"
   ]
  },
  {
   "cell_type": "code",
   "execution_count": 589,
   "metadata": {},
   "outputs": [],
   "source": [
    "#split independent and dependent variables\n",
    "inputs = train.drop(['success', 'name'], axis=1)\n",
    "target = train[\"success\"]\n",
    "\n",
    "test_inputs = test.drop(['success', 'name'], axis=1)\n",
    "test_labels = test[\"success\"]"
   ]
  },
  {
   "cell_type": "code",
   "execution_count": 590,
   "metadata": {},
   "outputs": [
    {
     "data": {
      "text/html": [
       "<div>\n",
       "<style scoped>\n",
       "    .dataframe tbody tr th:only-of-type {\n",
       "        vertical-align: middle;\n",
       "    }\n",
       "\n",
       "    .dataframe tbody tr th {\n",
       "        vertical-align: top;\n",
       "    }\n",
       "\n",
       "    .dataframe thead th {\n",
       "        text-align: right;\n",
       "    }\n",
       "</style>\n",
       "<table border=\"1\" class=\"dataframe\">\n",
       "  <thead>\n",
       "    <tr style=\"text-align: right;\">\n",
       "      <th></th>\n",
       "      <th>category_le</th>\n",
       "      <th>founded_le</th>\n",
       "      <th>rating_le</th>\n",
       "      <th>numreviews_le</th>\n",
       "    </tr>\n",
       "  </thead>\n",
       "  <tbody>\n",
       "    <tr>\n",
       "      <th>72</th>\n",
       "      <td>3</td>\n",
       "      <td>5</td>\n",
       "      <td>0</td>\n",
       "      <td>0</td>\n",
       "    </tr>\n",
       "    <tr>\n",
       "      <th>102</th>\n",
       "      <td>3</td>\n",
       "      <td>6</td>\n",
       "      <td>0</td>\n",
       "      <td>0</td>\n",
       "    </tr>\n",
       "    <tr>\n",
       "      <th>303</th>\n",
       "      <td>1</td>\n",
       "      <td>6</td>\n",
       "      <td>0</td>\n",
       "      <td>0</td>\n",
       "    </tr>\n",
       "    <tr>\n",
       "      <th>222</th>\n",
       "      <td>5</td>\n",
       "      <td>3</td>\n",
       "      <td>0</td>\n",
       "      <td>0</td>\n",
       "    </tr>\n",
       "    <tr>\n",
       "      <th>155</th>\n",
       "      <td>4</td>\n",
       "      <td>5</td>\n",
       "      <td>0</td>\n",
       "      <td>0</td>\n",
       "    </tr>\n",
       "  </tbody>\n",
       "</table>\n",
       "</div>"
      ],
      "text/plain": [
       "     category_le  founded_le  rating_le  numreviews_le\n",
       "72             3           5          0              0\n",
       "102            3           6          0              0\n",
       "303            1           6          0              0\n",
       "222            5           3          0              0\n",
       "155            4           5          0              0"
      ]
     },
     "execution_count": 590,
     "metadata": {},
     "output_type": "execute_result"
    }
   ],
   "source": [
    "#label encode columns\n",
    "le_category = LabelEncoder()\n",
    "le_founded = LabelEncoder()\n",
    "le_rating = LabelEncoder()\n",
    "le_numreviews = LabelEncoder()\n",
    "\n",
    "inputs[\"category_le\"] = le_category.fit_transform(inputs[\"category\"])\n",
    "inputs[\"founded_le\"] = le_founded.fit_transform(inputs[\"founded\"])\n",
    "inputs[\"rating_le\"] = le_rating.fit_transform(inputs[\"rating\"])\n",
    "inputs[\"numreviews_le\"] = le_numreviews.fit_transform(inputs[\"numreviews\"])\n",
    "\n",
    "test_inputs[\"category_le\"] = le_category.fit_transform(test_inputs[\"category\"])\n",
    "test_inputs[\"founded_le\"] = le_founded.fit_transform(test_inputs[\"founded\"])\n",
    "test_inputs[\"rating_le\"] = le_rating.fit_transform(test_inputs[\"rating\"])\n",
    "test_inputs[\"numreviews_le\"] = le_numreviews.fit_transform(test_inputs[\"numreviews\"])\n",
    "\n",
    "new_inputs = inputs.drop([\"category\", \"founded\", \"rating\", \"numreviews\"], axis = 1)\n",
    "test_inputs = test_inputs.drop([\"category\", \"founded\", \"rating\", \"numreviews\"], axis = 1)\n",
    "\n",
    "new_inputs.head()"
   ]
  },
  {
   "cell_type": "code",
   "execution_count": 591,
   "metadata": {},
   "outputs": [
    {
     "name": "stdout",
     "output_type": "stream",
     "text": [
      "\u001b[1mSklearn Model Accuracy:  0.7424242424242424\n"
     ]
    }
   ],
   "source": [
    "#create classifier\n",
    "model = tree.DecisionTreeClassifier()\n",
    "\n",
    "#train classifier\n",
    "model.fit(new_inputs, target)\n",
    "\n",
    "#test classifier\n",
    "print('\\033[1m' + \"Sklearn Model Accuracy: \", model.score(test_inputs, test_labels))"
   ]
  },
  {
   "cell_type": "markdown",
   "metadata": {},
   "source": [
    "## Comparing my Decision Tree Classifier to Sklean's\n",
    "Both my classifier and the one created by the sklearn module have accuracies above 50%. I believe that since the \"success\" metric was based on whether or not the business picked up the phone when called as opposed to whether or not they signed up for a contract with our company, that there was an no correlation between the features in the sample set and the corresponding label. If we changed he metric to being based on whether or not the comany signs up for our product then we may see more correlations between which small business industry tends to gravitate towards our product. \n",
    "\n",
    "I think another thing that I should have done before I built a tree was to find the correlation coefficients of each feature/ column with the labels to see if the values in that column can help identify the label or if it is close to random."
   ]
  },
  {
   "cell_type": "code",
   "execution_count": 597,
   "metadata": {
    "scrolled": true
   },
   "outputs": [
    {
     "data": {
      "text/html": [
       "<div>\n",
       "<style scoped>\n",
       "    .dataframe tbody tr th:only-of-type {\n",
       "        vertical-align: middle;\n",
       "    }\n",
       "\n",
       "    .dataframe tbody tr th {\n",
       "        vertical-align: top;\n",
       "    }\n",
       "\n",
       "    .dataframe thead th {\n",
       "        text-align: right;\n",
       "    }\n",
       "</style>\n",
       "<table border=\"1\" class=\"dataframe\">\n",
       "  <thead>\n",
       "    <tr style=\"text-align: right;\">\n",
       "      <th></th>\n",
       "      <th>category</th>\n",
       "      <th>founded</th>\n",
       "      <th>rating</th>\n",
       "      <th>numreviews</th>\n",
       "      <th>category_le</th>\n",
       "      <th>founded_le</th>\n",
       "      <th>rating_le</th>\n",
       "      <th>numreviews_le</th>\n",
       "      <th>label</th>\n",
       "    </tr>\n",
       "  </thead>\n",
       "  <tbody>\n",
       "    <tr>\n",
       "      <th>72</th>\n",
       "      <td>kitchen-and-bath-remodeling</td>\n",
       "      <td>2000</td>\n",
       "      <td>A</td>\n",
       "      <td>0</td>\n",
       "      <td>3</td>\n",
       "      <td>5</td>\n",
       "      <td>0</td>\n",
       "      <td>0</td>\n",
       "      <td>1</td>\n",
       "    </tr>\n",
       "    <tr>\n",
       "      <th>102</th>\n",
       "      <td>kitchen-and-bath-remodeling</td>\n",
       "      <td>2010</td>\n",
       "      <td>A</td>\n",
       "      <td>0</td>\n",
       "      <td>3</td>\n",
       "      <td>6</td>\n",
       "      <td>0</td>\n",
       "      <td>0</td>\n",
       "      <td>1</td>\n",
       "    </tr>\n",
       "    <tr>\n",
       "      <th>303</th>\n",
       "      <td>home-exteriors</td>\n",
       "      <td>2010</td>\n",
       "      <td>A</td>\n",
       "      <td>0</td>\n",
       "      <td>1</td>\n",
       "      <td>6</td>\n",
       "      <td>0</td>\n",
       "      <td>0</td>\n",
       "      <td>1</td>\n",
       "    </tr>\n",
       "    <tr>\n",
       "      <th>222</th>\n",
       "      <td>roofing</td>\n",
       "      <td>1980</td>\n",
       "      <td>A</td>\n",
       "      <td>0</td>\n",
       "      <td>5</td>\n",
       "      <td>3</td>\n",
       "      <td>0</td>\n",
       "      <td>0</td>\n",
       "      <td>1</td>\n",
       "    </tr>\n",
       "    <tr>\n",
       "      <th>155</th>\n",
       "      <td>landscaping</td>\n",
       "      <td>2000</td>\n",
       "      <td>A</td>\n",
       "      <td>0</td>\n",
       "      <td>4</td>\n",
       "      <td>5</td>\n",
       "      <td>0</td>\n",
       "      <td>0</td>\n",
       "      <td>1</td>\n",
       "    </tr>\n",
       "  </tbody>\n",
       "</table>\n",
       "</div>"
      ],
      "text/plain": [
       "                        category  founded rating  numreviews  category_le  \\\n",
       "72   kitchen-and-bath-remodeling     2000      A           0            3   \n",
       "102  kitchen-and-bath-remodeling     2010      A           0            3   \n",
       "303               home-exteriors     2010      A           0            1   \n",
       "222                      roofing     1980      A           0            5   \n",
       "155                  landscaping     2000      A           0            4   \n",
       "\n",
       "     founded_le  rating_le  numreviews_le  label  \n",
       "72            5          0              0      1  \n",
       "102           6          0              0      1  \n",
       "303           6          0              0      1  \n",
       "222           3          0              0      1  \n",
       "155           5          0              0      1  "
      ]
     },
     "execution_count": 597,
     "metadata": {},
     "output_type": "execute_result"
    }
   ],
   "source": [
    "inputs[\"label\"] = target\n",
    "inputs.head()"
   ]
  },
  {
   "cell_type": "code",
   "execution_count": 598,
   "metadata": {},
   "outputs": [
    {
     "data": {
      "image/png": "[encoded data removed]",
      "text/plain": [
       "<Figure size 432x288 with 1 Axes>"
      ]
     },
     "metadata": {
      "needs_background": "light"
     },
     "output_type": "display_data"
    }
   ],
   "source": [
    "plt = sns.countplot(x = \"category_le\", hue = \"label\", data = inputs, palette = \"Set2\")\\\n",
    ".set_title('Distribution of Labels for each Category')"
   ]
  },
  {
   "cell_type": "code",
   "execution_count": 599,
   "metadata": {},
   "outputs": [
    {
     "data": {
      "image/png": "[encoded data removed]",
      "text/plain": [
       "<Figure size 432x288 with 1 Axes>"
      ]
     },
     "metadata": {
      "needs_background": "light"
     },
     "output_type": "display_data"
    }
   ],
   "source": [
    "plt = sns.countplot(x = \"founded_le\", hue = \"label\", data = inputs, palette = \"Set2\")\\\n",
    ".set_title('Distribution of Labels for each Founded Decade')"
   ]
  },
  {
   "cell_type": "code",
   "execution_count": 600,
   "metadata": {},
   "outputs": [
    {
     "data": {
      "image/png": "[encoded data removed]",
      "text/plain": [
       "<Figure size 432x288 with 1 Axes>"
      ]
     },
     "metadata": {
      "needs_background": "light"
     },
     "output_type": "display_data"
    }
   ],
   "source": [
    "plt = sns.countplot(x = \"numreviews_le\", hue = \"label\", data = inputs, palette = \"Set2\")\\\n",
    ".set_title('Distribution of Labels for each Group of Number of Reviews')"
   ]
  },
  {
   "cell_type": "code",
   "execution_count": 601,
   "metadata": {},
   "outputs": [
    {
     "data": {
      "image/png": "[encoded data removed]",
      "text/plain": [
       "<Figure size 432x288 with 1 Axes>"
      ]
     },
     "metadata": {
      "needs_background": "light"
     },
     "output_type": "display_data"
    }
   ],
   "source": [
    "plt = sns.countplot(x = \"rating_le\", hue = \"label\", data = inputs, palette = \"Set2\")\\\n",
    ".set_title('Distribution of Labels for each Rating')"
   ]
  },
  {
   "cell_type": "markdown",
   "metadata": {},
   "source": [
    "From the graph plotting founded decade versus success metric we can see that the companies founded in the late 1900 and 2000s have a much higher success metric than those founded before that. In fact the ones founded before tend not to pick up the phone, This trend is similar in the rating of the business. Higher rating tends to get more successes. \n",
    "\n",
    "The number of reviews and the category do not seem to have this relationship.\n",
    "\n",
    "I think the next steps would be to build my tree using only the founded decade and rating and see if my accuracy goes up or down."
   ]
  },
  {
   "cell_type": "code",
   "execution_count": null,
   "metadata": {},
   "outputs": [],
   "source": []
  }
 ],
 "metadata": {
  "kernelspec": {
   "display_name": "Python 3",
   "language": "python",
   "name": "python3"
  },
  "language_info": {
   "codemirror_mode": {
    "name": "ipython",
    "version": 3
   },
   "file_extension": ".py",
   "mimetype": "text/x-python",
   "name": "python",
   "nbconvert_exporter": "python",
   "pygments_lexer": "ipython3",
   "version": "3.8.1"
  }
 },
 "nbformat": 4,
 "nbformat_minor": 2
}
